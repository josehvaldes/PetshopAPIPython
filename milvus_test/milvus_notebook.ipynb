{
 "cells": [
  {
   "cell_type": "code",
   "execution_count": 2,
   "id": "eb10890c",
   "metadata": {},
   "outputs": [
    {
     "name": "stderr",
     "output_type": "stream",
     "text": [
      "c:\\personal\\_python\\fastapi\\PetshopAPIPython\\milvus_test\\.venv\\Lib\\site-packages\\tqdm\\auto.py:21: TqdmWarning: IProgress not found. Please update jupyter and ipywidgets. See https://ipywidgets.readthedocs.io/en/stable/user_install.html\n",
      "  from .autonotebook import tqdm as notebook_tqdm\n"
     ]
    },
    {
     "name": "stdout",
     "output_type": "stream",
     "text": [
      "load model\n"
     ]
    }
   ],
   "source": [
    "import json\n",
    "from pymilvus import connections, FieldSchema, CollectionSchema, DataType, Collection, utility\n",
    "from pymilvus import model\n",
    "from sentence_transformers import SentenceTransformer\n",
    "\n",
    "connections.connect(uri=\"http://localhost:19530\")    \n",
    "\n",
    "fields = [\n",
    "    FieldSchema(name=\"id\", dtype=DataType.VARCHAR, is_primary=True, max_length=64),\n",
    "    FieldSchema(name=\"embedding\", dtype=DataType.FLOAT_VECTOR, dim=768),\n",
    "    FieldSchema(name=\"text\", dtype=DataType.VARCHAR, max_length=10000)\n",
    "]\n",
    "\n",
    "collection_name = \"Dogs_Breeds_Collection_en_1\"\n",
    "\n",
    "schema = CollectionSchema(fields, description=\"ID and Text and Embeddings collection 6\")\n",
    "\n",
    "collection = Collection(name=collection_name, schema=schema)\n",
    "\n",
    "if collection.is_empty and len(collection.indexes)==0:\n",
    "    print(\"collection empty. End execution\")\n",
    "    exit(0)\n",
    "\n",
    "print(\"load model\")\n",
    "model = SentenceTransformer('multi-qa-mpnet-base-dot-v1')\n"
   ]
  },
  {
   "cell_type": "code",
   "execution_count": null,
   "id": "32348ef6",
   "metadata": {},
   "outputs": [
    {
     "name": "stdout",
     "output_type": "stream",
     "text": [
      "Search results: 1 queries\n",
      "Top 4 results:\n",
      "ID: GERMAN SHEPHERD, Distance: 0.30074235796928406\n",
      "ID: SAINT BERNARD, Distance: 0.2558976709842682\n",
      "ID: NEWFOUNDLAND, Distance: 0.23632100224494934\n",
      "ID: ROUGH COLLIE, Distance: 0.22772814333438873\n",
      "Search completed\n"
     ]
    }
   ],
   "source": [
    "query_vectors = model.encode([\"for rescue\"])\n",
    "\n",
    "search_params={\"metric_type\": \"COSINE\", \"params\": {\"ef\": 128}}  # Search parameters\n",
    "\n",
    "results = collection.search(\n",
    "    data=query_vectors,  # The query embedding\n",
    "    anns_field=\"embedding\",  # Field that contains the embeddings\n",
    "    param=search_params,  # Search parameters\n",
    "    limit=4,  # Number of results to return\n",
    "    expr=None,  # Optional filtering expression\n",
    "    output_fields=[\"id\", \"text\"]\n",
    ")\n",
    "\n",
    "print(f\"Search results: {len(results)} queries\")\n",
    "for result in results:\n",
    "    print(f\"Top {len(result)} results:\")\n",
    "    for hit in result:\n",
    "        print(f\"ID: {hit.entity.get('id')}, Distance: {hit.distance}\")\n",
    "        print(f\"Text: {hit.entity.get('text')}\")\n",
    "\n",
    "print(\"Search completed\")"
   ]
  }
 ],
 "metadata": {
  "kernelspec": {
   "display_name": ".venv",
   "language": "python",
   "name": "python3"
  },
  "language_info": {
   "codemirror_mode": {
    "name": "ipython",
    "version": 3
   },
   "file_extension": ".py",
   "mimetype": "text/x-python",
   "name": "python",
   "nbconvert_exporter": "python",
   "pygments_lexer": "ipython3",
   "version": "3.13.2"
  }
 },
 "nbformat": 4,
 "nbformat_minor": 5
}
