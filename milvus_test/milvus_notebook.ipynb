{
 "cells": [
  {
   "cell_type": "code",
   "execution_count": null,
   "id": "eb10890c",
   "metadata": {},
   "outputs": [
    {
     "name": "stderr",
     "output_type": "stream",
     "text": [
      "c:\\personal\\_python\\fastapi\\PetshopAPIPython\\milvus_test\\.venv\\Lib\\site-packages\\tqdm\\auto.py:21: TqdmWarning: IProgress not found. Please update jupyter and ipywidgets. See https://ipywidgets.readthedocs.io/en/stable/user_install.html\n",
      "  from .autonotebook import tqdm as notebook_tqdm\n"
     ]
    },
    {
     "name": "stdout",
     "output_type": "stream",
     "text": [
      "load model\n"
     ]
    }
   ],
   "source": [
    "import json\n",
    "from pymilvus import connections, FieldSchema, CollectionSchema, DataType, Collection, utility\n",
    "from pymilvus import model\n",
    "from sentence_transformers import SentenceTransformer\n",
    "\n",
    "connections.connect(uri=\"http://localhost:19530\")    \n",
    "\n",
    "fields = [\n",
    "    FieldSchema(name=\"id\", dtype=DataType.VARCHAR, is_primary=True, max_length=64),\n",
    "    FieldSchema(name=\"embedding\", dtype=DataType.FLOAT_VECTOR, dim=768),\n",
    "    FieldSchema(name=\"text\", dtype=DataType.VARCHAR, max_length=10000)\n",
    "]\n",
    "\n",
    "collection_name = \"Dogs_Info_Collection_en_2\"\n",
    "\n",
    "schema = CollectionSchema(fields, description=\"ID and Text and Embeddings collection 6\")\n",
    "\n",
    "collection = Collection(name=collection_name, schema=schema)\n",
    "\n",
    "if collection.is_empty and len(collection.indexes)==0:\n",
    "    print(\"collection empty. End execution\")\n",
    "    exit(0)\n",
    "\n",
    "print(\"load model\")\n",
    "model = SentenceTransformer('multi-qa-mpnet-base-dot-v1')\n",
    "\n",
    "\n",
    "\n"
   ]
  },
  {
   "cell_type": "code",
   "execution_count": 3,
   "id": "32348ef6",
   "metadata": {},
   "outputs": [
    {
     "name": "stdout",
     "output_type": "stream",
     "text": [
      "Search results: 1 queries\n",
      "Top 3 results:\n",
      "ID: CHOW-CHOW, Distance: 0.2559259831905365\n",
      "ID: BOXER, Distance: 0.2070777714252472\n",
      "ID: AKITA, Distance: 0.1857426017522812\n",
      "Search completed\n"
     ]
    }
   ],
   "source": [
    "query_vectors = model.encode([\"china\"])\n",
    "\n",
    "search_params={\"metric_type\": \"COSINE\", \"params\": {\"ef\": 128}}  # Search parameters\n",
    "\n",
    "results = collection.search(\n",
    "    data=query_vectors,  # The query embedding\n",
    "    anns_field=\"embedding\",  # Field that contains the embeddings\n",
    "    param=search_params,  # Search parameters\n",
    "    limit=5,  # Number of results to return\n",
    "    expr=None  # Optional filtering expression\n",
    ")\n",
    "\n",
    "print(f\"Search results: {len(results)} queries\")\n",
    "for result in results:\n",
    "    print(f\"Top {len(result)} results:\")\n",
    "    for hit in result:\n",
    "        print(f\"ID: {hit.entity.get('id')}, Distance: {hit.distance}\")\n",
    "\n",
    "print(\"Search completed\")"
   ]
  }
 ],
 "metadata": {
  "kernelspec": {
   "display_name": ".venv",
   "language": "python",
   "name": "python3"
  },
  "language_info": {
   "codemirror_mode": {
    "name": "ipython",
    "version": 3
   },
   "file_extension": ".py",
   "mimetype": "text/x-python",
   "name": "python",
   "nbconvert_exporter": "python",
   "pygments_lexer": "ipython3",
   "version": "3.13.2"
  }
 },
 "nbformat": 4,
 "nbformat_minor": 5
}
