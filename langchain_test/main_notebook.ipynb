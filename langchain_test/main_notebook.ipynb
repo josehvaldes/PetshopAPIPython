{
 "cells": [
  {
   "cell_type": "code",
   "execution_count": 1,
   "id": "a933be00",
   "metadata": {},
   "outputs": [
    {
     "name": "stderr",
     "output_type": "stream",
     "text": [
      "c:\\personal\\_python\\fastapi\\PetshopAPIPython\\langchain_test\\.venv\\Lib\\site-packages\\tqdm\\auto.py:21: TqdmWarning: IProgress not found. Please update jupyter and ipywidgets. See https://ipywidgets.readthedocs.io/en/stable/user_install.html\n",
      "  from .autonotebook import tqdm as notebook_tqdm\n",
      "Loading checkpoint shards: 100%|██████████| 2/2 [01:02<00:00, 31.06s/it]\n"
     ]
    },
    {
     "name": "stdout",
     "output_type": "stream",
     "text": [
      "Model loaded.\n"
     ]
    }
   ],
   "source": [
    "from transformers import AutoTokenizer, AutoModelForCausalLM\n",
    "from langchain.llms import HuggingFacePipeline\n",
    "from langchain.prompts import PromptTemplate\n",
    "from langchain.chains import LLMChain\n",
    "from transformers import pipeline\n",
    "\n",
    "model_path = \"h:/ML_Models/_gemma/model/gemma-2b-it\"  # local folder\n",
    "\n",
    "tokenizer = AutoTokenizer.from_pretrained(model_path)\n",
    "\n",
    "model = AutoModelForCausalLM.from_pretrained(model_path)\n",
    "print(\"Model loaded.\")\n"
   ]
  },
  {
   "cell_type": "code",
   "execution_count": 3,
   "id": "00d367e7",
   "metadata": {},
   "outputs": [
    {
     "name": "stderr",
     "output_type": "stream",
     "text": [
      "Device set to use cpu\n"
     ]
    },
    {
     "name": "stdout",
     "output_type": "stream",
     "text": [
      "Pipeline loaded.\n",
      "Answer like a helpful agent: which dogs are good for apartments?\n",
      "\n",
      "Sure, here are some dog breeds that are well-suited for apartments:\n",
      "\n",
      "1. **Poodle Mixes:**\n",
      "   - Miniature Poodles (Toy, Miniature, and Standard)\n",
      "   - Bichon Friars\n",
      "   - French Bulldogs\n",
      "\n",
      "2. **Shorthaired Dogs:**\n",
      "   - Chihuahua\n",
      "   - Maltese\n",
      "   - Yorkie\n",
      "\n",
      "3. **Herding Dogs:**\n",
      "   - Golden Retriever\n",
      "   - German Shepherd\n",
      "   - Border Collie\n",
      "\n",
      "4. **Small and Lightweight Dogs:**\n",
      "   - French Bulldog\n",
      "   - Boston Terrier\n",
      "   - Lhasa Apso\n",
      "\n",
      "5. **Terriers:**\n",
      "   - Chihuahua\n",
      "   - Havanese\n",
      "   - Yorkshire Terrier\n",
      "\n",
      "6. **Small Mixes:**\n",
      "   - Maltese\n",
      "   - Pomeranian\n",
      "   - Bichon Friars\n",
      "\n",
      "7. **Boxer:**\n",
      "   - Boxers come in various sizes and are known for being low-maintenance dogs.\n",
      "\n",
      "Remember, individual preferences and living situations can vary, so it's always best to adopt a dog from a shelter or responsible breeder.\n",
      "Response generated.\n"
     ]
    }
   ],
   "source": [
    "pipe = pipeline(\"text-generation\", model=model, tokenizer=tokenizer, max_new_tokens=512)\n",
    "llm = HuggingFacePipeline(pipeline=pipe)\n",
    "print(\"Pipeline loaded.\")\n",
    "\n",
    "\n",
    "prompt = PromptTemplate.from_template(\"Answer like a helpful agent: {question}\")\n",
    "chain = LLMChain(llm=llm, prompt=prompt)\n",
    "\n",
    "response = chain.run(\"which dogs are good for apartments?\")\n",
    "print(response)\n",
    "print(\"Response generated.\")"
   ]
  }
 ],
 "metadata": {
  "kernelspec": {
   "display_name": ".venv",
   "language": "python",
   "name": "python3"
  },
  "language_info": {
   "codemirror_mode": {
    "name": "ipython",
    "version": 3
   },
   "file_extension": ".py",
   "mimetype": "text/x-python",
   "name": "python",
   "nbconvert_exporter": "python",
   "pygments_lexer": "ipython3",
   "version": "3.13.2"
  }
 },
 "nbformat": 4,
 "nbformat_minor": 5
}
