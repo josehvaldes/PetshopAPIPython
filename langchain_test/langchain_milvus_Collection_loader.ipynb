{
 "cells": [
  {
   "cell_type": "code",
   "execution_count": 1,
   "id": "8dd5b83b",
   "metadata": {},
   "outputs": [],
   "source": [
    "import json\n",
    "jsonl_path = \"h:/ML_Models/_gemma/customdocs/converted/dogs_dataset_english.jsonl\"\n",
    "\n",
    "def load_jsonl(path):\n",
    "    try:\n",
    "        with open(jsonl_path, 'r', encoding='utf-8') as file:\n",
    "            print(\"Loading JSONL file...\")\n",
    "            data = [json.loads(line) for line in file]\n",
    "        return data\n",
    "    except FileNotFoundError:\n",
    "        print(f\"File not found: {jsonl_path}\")\n",
    "        data = []\n",
    "    except Exception as e:\n",
    "        print(f\"Error loading JSONL file: {e}\")\n",
    "        data = []\n",
    "\n",
    "def extract_documents_and_ids(data):\n",
    "    breed_documents = []\n",
    "    breed_ids = []\n",
    "    metadatas = []\n",
    "    for record in data: \n",
    "        input_text = record.get(\"input\", \"\")\n",
    "        breed_documents.append(input_text)\n",
    "        index = input_text.find(\" Nationality: \") # find first space\n",
    "        if index != -1:\n",
    "            id = input_text[:index] # take first word as id\n",
    "        else:\n",
    "            id = input_text\n",
    "        breed_ids.append(id)\n",
    "\n",
    "        index_nationality = input_text.find(\". Origin\") # find first space\n",
    "        nationality = \"\"\n",
    "        if index_nationality != -1:\n",
    "            nationality = input_text[ index + len(\" Nationality: \") : index_nationality].strip() # take text between \"Nacionalidad\" and \". Origen\"\n",
    "            metadatas.append({\"source\": \"dogs_dataset.jsonl\", \"Nationality\": nationality})\n",
    "        else:\n",
    "            metadatas.append({\"source\": \"dogs_dataset.jsonl\", \"Nationality\": \"unknown: \" + input_text[:index]})\n",
    "    return breed_documents, breed_ids, metadatas\n"
   ]
  },
  {
   "cell_type": "code",
   "execution_count": 2,
   "id": "ef5c9f72",
   "metadata": {},
   "outputs": [
    {
     "name": "stdout",
     "output_type": "stream",
     "text": [
      "Loading JSONL file...\n",
      "Loaded 57 documents.\n",
      "documents created.\n"
     ]
    }
   ],
   "source": [
    "from langchain_core.documents import Document\n",
    "\n",
    "data = load_jsonl(jsonl_path)\n",
    "texts, ids, metadatas = extract_documents_and_ids(data)\n",
    "print(f\"Loaded {len(texts)} documents.\")\n",
    "\n",
    "documents = [Document(page_content=texts[i], metadata=metadatas[i]) for i in range(len(texts))]\n",
    "print(\"documents created.\")"
   ]
  },
  {
   "cell_type": "code",
   "execution_count": 3,
   "id": "fa27fe23",
   "metadata": {},
   "outputs": [
    {
     "name": "stderr",
     "output_type": "stream",
     "text": [
      "C:\\Users\\admin\\AppData\\Local\\Temp\\ipykernel_14556\\88413281.py:5: LangChainDeprecationWarning: The class `HuggingFaceEmbeddings` was deprecated in LangChain 0.2.2 and will be removed in 1.0. An updated version of the class exists in the :class:`~langchain-huggingface package and should be used instead. To use it run `pip install -U :class:`~langchain-huggingface` and import as `from :class:`~langchain_huggingface import HuggingFaceEmbeddings``.\n",
      "  embedding_model = HuggingFaceEmbeddings(model_name=\"multi-qa-mpnet-base-dot-v1\")\n",
      "c:\\personal\\_python\\fastapi\\PetshopAPIPython\\langchain_test\\.venv\\Lib\\site-packages\\tqdm\\auto.py:21: TqdmWarning: IProgress not found. Please update jupyter and ipywidgets. See https://ipywidgets.readthedocs.io/en/stable/user_install.html\n",
      "  from .autonotebook import tqdm as notebook_tqdm\n"
     ]
    },
    {
     "name": "stdout",
     "output_type": "stream",
     "text": [
      "Vector store loaded.\n"
     ]
    }
   ],
   "source": [
    "from langchain.embeddings import HuggingFaceEmbeddings\n",
    "from langchain_milvus import Milvus\n",
    "\n",
    "# Embedding model\n",
    "embedding_model = HuggingFaceEmbeddings(model_name=\"multi-qa-mpnet-base-dot-v1\")\n",
    "\n",
    "# Connect to your existing collection\n",
    "vector_store = Milvus(\n",
    "    embedding_model,\n",
    "    collection_name=\"Dogs_Breeds_milvus_EN_1\",\n",
    "    connection_args={\"host\": \"localhost\", \"port\": \"19530\"}\n",
    ")\n",
    "\n",
    "vector_store.add_documents(documents=documents, ids=ids)\n",
    "print(\"Vector store loaded.\")"
   ]
  },
  {
   "cell_type": "code",
   "execution_count": null,
   "id": "247b7f82",
   "metadata": {},
   "outputs": [
    {
     "name": "stdout",
     "output_type": "stream",
     "text": [
      "Search results: 5\n",
      "* SAINT BERNARD Nationality: Switzerland. Origin: Very ancient origins, descending from the Tibetan Mastiff and the mastiffs brought by Romans to the Alps 2000 years ago. The modern Saint Bernard emerged around the year 1000 at the monastery on the Great Saint Bernard Pass, founded by Father Bernard of Menthon. Monks crossed the ancient mastiff with Great Danes and Pyrenean Mountain Dogs. Their careful selection led to this remarkable breed, first appearing on a Swiss coat of arms in 1350. Its fame as a rescue dog began in the mid-18th century. Description: A giant among dog breeds—robust, muscular, with a powerful head. Minimum height: 70 cm for males, 65 cm for females. Weight: 55–80 kg. Broad, slightly convex skull with visible wrinkles; straight nasal bridge and pronounced stop; muzzle wider than long; drooping upper lip; strong, complete teeth; medium-sized, slightly sunken eyes, positioned forward, dark brown. Medium ears hang to the sides; strong neck with dewlap. Medium-length coat, smooth or slightly wavy, never curly. Coat color: red with white patches or white with red patches. Red varies in tone; often has a black mask. Temperament: Very gentle, obedient, loyal, calm, and thoughtful. Can sense weather changes. Often dislikes small dogs. Use: Historically used to rescue travelers and mountaineers in snowy passes of the Great Saint Bernard. Today, mainly a companion dog—not suitable for apartment living. Some are still used for avalanche rescue. The short-haired variety handles cold well and is preferred for mountain work. Note: Long-haired Saint Bernards need frequent grooming with wide-toothed combs and stiff brushes. Even if living in a garden, they require daily long walks. [{'source': 'dogs_dataset.jsonl', 'Nationality': 'Switzerland', 'pk': 'SAINT BERNARD'}]\n",
      "* NEWFOUNDLAND Nationality: Canada. Origin: Some theories claim it originated on the island of Newfoundland, from which the breed takes its name. Others suggest that while it developed on the island, European settlers in the 16th and 17th centuries introduced the original stock. Basque fishermen brought Pyrenean dogs aboard, and the English brought water spaniels, Brig Dogs, and Mastiffs. The water dog may have contributed to the breed’s formation. A member of the Newfoundland Club of America speculated that the Tibetan Mastiff or a related breed may have arrived from the East via the Aleutian Islands and Alaska. According to this theory, the Newfoundland descends from a large black dog kept by certain Indigenous tribes, who considered it the perfect domestic animal, using it for hunting, fishing, pulling, and companionship. With many theories and opinions, its true origin remains a mystery. Description: A large, strong, active dog. Shoulder height: 71 cm for males, 66 cm for females. Weight: 63.5–68 kg for males, 49.9–54.4 kg for females. Colors include black, brown (from chocolate to bronze), and black-and-white. Black is traditional. Temperament: The Newfoundland’s expression reflects kindness and gentleness. Noted for its aquatic abilities. Dignified and cheerful, it is genuinely gentle and serious. An excellent guardian and swimmer, friendly and intelligent. Gets along well with other animals and children. Naturally empathetic. Use: A traditional lifesaving dog, instinctively rescues anything floating and brings it to shore. Just as the Saint Bernard is famous for snow rescues, the Newfoundland is renowned for saving lives in shipwrecks and water accidents. [{'source': 'dogs_dataset.jsonl', 'Nationality': 'Canada', 'pk': 'NEWFOUNDLAND'}]\n",
      "* GERMAN SHEPHERD Nationality: Germany. Origin: Known for its intelligence and learning ability, the German Shepherd has long been used as a guard dog, police dog, and guide dog—not for herding, as its name suggests. Description: Deep chest, not too wide. Body is deep but not long, though longer than its height at the withers. Well-formed ribcage, straight and muscular back. Broad, strong flanks. Tail is thick, reaching the hock, hanging and slightly curved at rest. Raised in motion but never above the back line. Medium-sized, almond-shaped eyes, preferably dark brown, with lively, intelligent, confident expression. Medium ears, broad at base, high-set, triangular, held upright and slightly forward. Head proportionate to body, moderately broad between ears. Strong muzzle, straight nasal bridge, firm lips, strong incisors with scissor bite. Long, flat shoulder blades set obliquely. Arm length exceeds chest depth. Hind legs are strong, broad, and muscular; femur should be angled relative to tibia. Use: Historically trained for various services, the German Shepherd has supported humans in many roles: 1. Human aid: In WWI, served as Red Cross dog—found wounded soldiers and carried first aid supplies. Also acted as messenger, sentry, and ammunition depot guard. 2. Guide dog: After WWI, trained to guide blind soldiers. Training spread from Switzerland to France in the 1930s. 3. Assistance tasks: Selectively bred for health and temperament to serve as guide dogs. Puppies are raised by volunteers, then undergo specialized training to 'see' for their blind owners. 4. Search and rescue: Effective in earthquakes and avalanches, tracking in mountainous terrain, locating lost people in fog, and alerting by digging or barking. 5. Scent tracking: Used by authorities to detect contraband, explosives, and goods in ports and airports. 6. Police companion: Employed by special forces for search and rescue, defense, and controlled attack. Each dog and handler must work as a team, ideally from puppyhood. [{'source': 'dogs_dataset.jsonl', 'Nationality': 'Germany', 'pk': 'GERMAN SHEPHERD'}]\n",
      "* DALMATIAN Nationality: Yugoslavia. Origin: Few authors agree on its origins. It’s certainly an ancient breed, with traces found in Egyptian bas-reliefs and Hellenic art. In 1700, a similar dog existed in England called the Bengal Pointer, casting doubt on its Yugoslavian origin. Description: Muscular dog with symmetrical lines. Height: 55–60 cm (50–55 cm for females). Weight: approx. 25 kg. Head of good length; strong muzzle; moderate stop; black or brown nose depending on spot color. Eyes: black or brown, round, bright, intelligent expression. Ears: soft, thin, close to the head. Tail: strong at base, tapering to tip, slightly curved upward, preferably heavily spotted. Coat: short, hard, dense, fine, smooth, shiny. Base color must be pure white with black or liver spots—the more spots, the more prized the dog. Puppies are born completely white. Temperament: Calm, loyal, independent but trainable, very sensitive. Needs companionship or becomes melancholic. Loves playing with children. Has excellent memory, recalling corrections even years later. Use: Used as a scent hound in the Middle Ages. In the 19th century, gained popularity as a 'coach dog', following its owner faithfully whether on foot, horseback, or carriage. Later became a beloved companion dog. In the U.S., serves in rescue roles and often rides in fire trucks. Clean and orderly, avoids puddles and enjoys water and soap. Note: A lemon-spotted variety exists (white base with lemon spots), but it’s not accepted in dog shows. [{'source': 'dogs_dataset.jsonl', 'Nationality': 'Yugoslavia', 'pk': 'DALMATIAN'}]\n",
      "* ROUGH COLLIE Nationality: Great Britain. Origin: A superb herding dog for centuries, officially defined and shown in exhibitions since 1860. The name Collie likely comes from 'Colley', a type of sheep with black legs and face ('coal' meaning black), which the Scottish shepherd once guarded. Description: Height approx. 55–60 cm (females 10% less); weight between 22 and 32 kg. The Collie gives an impression of great beauty and harmony, while showing strength and agility. The head (important for scoring) should be flat with a moderately broad skull between the ears, long and straight muzzle, rounded and tapered but not pointed; nose always black. Almond-shaped eyes give a sweet and attentive look; ears small, folded back at rest, upright in two-thirds when alert, with the top third bent forward. Body longer than tall; tail reaches the hock joint, carried low with a slight hook at rest. Coat is abundant and coarse to the touch, with a broad collar but short hair on head, muzzle, and ear tips. Coat colors: solid blonde; tricolor (blonde, dominant black, and white); and blue merle. Temperament: Contrasting traits—kind and sensitive, yet stubborn and lazy. Strong protective instinct, especially toward children and lonely individuals. Aristocratic, intelligent, loyal, not aggressive but wary of those it dislikes. Must be trained gently; otherwise, it may refuse to learn even simple tasks. Use: Robust, vigorous, active—still used as a herding dog. Due to its intelligence, also valued as a guard dog, rescue dog (water and fire), and guide for blind children. Its extraordinary beauty has made it almost exclusively a companion dog today—aristocratic and sweet. Described as 'a dog with a man's intelligence and a woman's charm'. [{'source': 'dogs_dataset.jsonl', 'Nationality': 'Great Britain', 'pk': 'ROUGH COLLIE'}]\n"
     ]
    }
   ],
   "source": [
    "results = vector_store.similarity_search(\n",
    "    \"rescue dogs\",\n",
    "    k=5,\n",
    "    #expr='source == \"tweet\"', # search metadata\n",
    "    # param=...  # Search params for the index type. TODO???\n",
    ")\n",
    "print(f\"Search results: {len(results)}\")\n",
    "for res in results:\n",
    "    print(f\"* {res.page_content} [{res.metadata}]\")"
   ]
  }
 ],
 "metadata": {
  "kernelspec": {
   "display_name": ".venv",
   "language": "python",
   "name": "python3"
  },
  "language_info": {
   "codemirror_mode": {
    "name": "ipython",
    "version": 3
   },
   "file_extension": ".py",
   "mimetype": "text/x-python",
   "name": "python",
   "nbconvert_exporter": "python",
   "pygments_lexer": "ipython3",
   "version": "3.13.2"
  }
 },
 "nbformat": 4,
 "nbformat_minor": 5
}
