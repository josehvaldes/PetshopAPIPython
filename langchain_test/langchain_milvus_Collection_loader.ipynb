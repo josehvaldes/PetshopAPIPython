{
 "cells": [
  {
   "cell_type": "code",
   "execution_count": null,
   "id": "8dd5b83b",
   "metadata": {},
   "outputs": [],
   "source": [
    "import json\n",
    "jsonl_path = \"h:/ML_Models/_gemma/customdocs/converted/dogs_dataset_english.jsonl\"\n",
    "\n",
    "def load_jsonl(path):\n",
    "    try:\n",
    "        with open(jsonl_path, 'r', encoding='utf-8') as file:\n",
    "            print(\"Loading JSONL file...\")\n",
    "            data = [json.loads(line) for line in file]\n",
    "        return data\n",
    "    except FileNotFoundError:\n",
    "        print(f\"File not found: {jsonl_path}\")\n",
    "        data = []\n",
    "    except Exception as e:\n",
    "        print(f\"Error loading JSONL file: {e}\")\n",
    "        data = []\n",
    "\n",
    "def extract_documents_and_ids(data):\n",
    "    breed_documents = []\n",
    "    breed_ids = []\n",
    "    metadatas = []\n",
    "    for record in data: \n",
    "        input_text = record.get(\"input\", \"\")\n",
    "        breed_documents.append(input_text)\n",
    "        index = input_text.find(\" Nationality: \") # find first space\n",
    "        if index != -1:\n",
    "            id = input_text[:index] # take first word as id\n",
    "        else:\n",
    "            id = input_text\n",
    "        breed_ids.append(id)\n",
    "\n",
    "        index_nationality = input_text.find(\". Origin\") # find first space\n",
    "        nationality = \"\"\n",
    "        if index_nationality != -1:\n",
    "            nationality = input_text[ index + len(\" Nationality: \") : index_nationality].strip() # take text between \"Nacionalidad\" and \". Origen\"\n",
    "            metadatas.append({\"source\": \"dogs_dataset.jsonl\", \"Nationality\": nationality})\n",
    "        else:\n",
    "            metadatas.append({\"source\": \"dogs_dataset.jsonl\", \"Nationality\": \"unknown: \" + input_text[:index]})\n",
    "    return breed_documents, breed_ids, metadatas\n"
   ]
  },
  {
   "cell_type": "code",
   "execution_count": null,
   "id": "ef5c9f72",
   "metadata": {},
   "outputs": [],
   "source": [
    "from langchain_core.documents import Document\n",
    "\n",
    "data = load_jsonl(jsonl_path)\n",
    "texts, ids, metadatas = extract_documents_and_ids(data)\n",
    "print(f\"Loaded {len(texts)} documents.\")\n",
    "\n",
    "documents = [Document(page_content=texts[i], metadata=metadatas[i]) for i in range(len(texts))]\n",
    "print(\"documents created.\")"
   ]
  },
  {
   "cell_type": "code",
   "execution_count": null,
   "id": "fa27fe23",
   "metadata": {},
   "outputs": [],
   "source": [
    "from langchain.embeddings import HuggingFaceEmbeddings\n",
    "from langchain_milvus import Milvus\n",
    "\n",
    "# Embedding model\n",
    "embedding_model = HuggingFaceEmbeddings(model_name=\"multi-qa-mpnet-base-dot-v1\")\n",
    "\n",
    "# Connect to the existing collection\n",
    "vector_store = Milvus(\n",
    "    embedding_model,\n",
    "    collection_name=\"Dogs_Breeds_milvus_EN_1\",\n",
    "    connection_args={\"host\": \"localhost\", \"port\": \"19530\"},\n",
    ")\n",
    "\n",
    "vector_store.add_documents(documents=documents, ids=ids)\n",
    "print(\"Vector store loaded.\")"
   ]
  },
  {
   "cell_type": "code",
   "execution_count": null,
   "id": "247b7f82",
   "metadata": {},
   "outputs": [],
   "source": [
    "results = vector_store.similarity_search(\n",
    "    \"rescue dogs\",\n",
    "    k=5,\n",
    "    \n",
    "    # search metadata\n",
    "    #expr='source == \"dogs_dataset.jsonl\"', \n",
    "    \n",
    "    # Search params for the index type\n",
    "    #param={\"metric_type\": \"COSINE\", \"params\": {\"nprobe\": 16}} \n",
    "\n",
    ")\n",
    "print(f\"Search results: {len(results)}\")\n",
    "for res in results:\n",
    "    print(f\"* {res.page_content} [{res.metadata}]\")"
   ]
  }
 ],
 "metadata": {
  "kernelspec": {
   "display_name": ".venv",
   "language": "python",
   "name": "python3"
  },
  "language_info": {
   "codemirror_mode": {
    "name": "ipython",
    "version": 3
   },
   "file_extension": ".py",
   "mimetype": "text/x-python",
   "name": "python",
   "nbconvert_exporter": "python",
   "pygments_lexer": "ipython3",
   "version": "3.13.2"
  }
 },
 "nbformat": 4,
 "nbformat_minor": 5
}
