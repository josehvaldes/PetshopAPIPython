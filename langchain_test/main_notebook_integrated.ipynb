{
 "cells": [
  {
   "cell_type": "code",
   "execution_count": null,
   "id": "a933be00",
   "metadata": {},
   "outputs": [],
   "source": [
    "from transformers import AutoTokenizer, AutoModelForCausalLM\n",
    "from langchain.llms import HuggingFacePipeline\n",
    "from transformers import pipeline\n",
    "\n",
    "model_path = \"h:/ML_Models/_gemma/model/gemma-2b-it\"  # local folder\n",
    "\n",
    "tokenizer = AutoTokenizer.from_pretrained(model_path)\n",
    "\n",
    "model = AutoModelForCausalLM.from_pretrained(model_path)\n",
    "print(\"Model loaded.\")\n",
    "\n",
    "pipe = pipeline(\"text-generation\", model=model, tokenizer=tokenizer, max_new_tokens=512)\n",
    "llm = HuggingFacePipeline(pipeline=pipe)\n",
    "\n",
    "print(\"Pipeline loaded.\")"
   ]
  },
  {
   "cell_type": "code",
   "execution_count": null,
   "id": "48bee70e",
   "metadata": {},
   "outputs": [],
   "source": [
    "from langchain.embeddings import HuggingFaceEmbeddings\n",
    "from langchain_milvus import Milvus\n",
    "\n",
    "# Embedding model\n",
    "embedding_model = HuggingFaceEmbeddings(model_name=\"multi-qa-mpnet-base-dot-v1\")\n",
    "\n",
    "# Connect to your existing collection\n",
    "vector_store = Milvus(\n",
    "    embedding_model,\n",
    "    collection_name=\"Dogs_Breeds_milvus_EN_1\",\n",
    "    connection_args={\"host\": \"localhost\", \"port\": \"19530\"}\n",
    "    #use the vector_field_name parameter only if you have a non-default\n",
    "    #vector_field_name = 'embeddings'\n",
    ")\n",
    "print(\"Vector store loaded.\")"
   ]
  },
  {
   "cell_type": "code",
   "execution_count": null,
   "id": "b4afbbe3",
   "metadata": {},
   "outputs": [],
   "source": [
    "query_criteria = \"dogs for rescue operations\"\n",
    "results = vector_store.similarity_search(\n",
    "    query_criteria,\n",
    "    k=5,\n",
    ")\n",
    "print(f\"Retrieved {len(results)} documents from Milvus for the query: '{query_criteria}'\")\n"
   ]
  },
  {
   "cell_type": "code",
   "execution_count": null,
   "id": "06e3c821",
   "metadata": {},
   "outputs": [],
   "source": [
    "# Use in LangChain RAG\n",
    "from langchain.chains import RetrievalQA\n",
    "from langchain.vectorstores import FAISS\n",
    "\n",
    "# Convert retrieved documents to FAISS retriever\n",
    "retriever = FAISS.from_documents(results, embedding=embedding_model).as_retriever()\n",
    "\n",
    "qa_chain = RetrievalQA.from_chain_type(llm=llm, retriever=retriever, chain_type=\"stuff\", )\n",
    "\n",
    "question = \"Given the following documents, which docs are good for rescue operations?\"\n",
    "\n",
    "response = qa_chain.run(question)\n",
    "\n",
    "print(response)\n",
    "print(\"Response generated.\")"
   ]
  },
  {
   "cell_type": "code",
   "execution_count": null,
   "id": "52e441da",
   "metadata": {},
   "outputs": [],
   "source": [
    "#Answers using prompt\n",
    "from langchain.chains import RetrievalQA\n",
    "from langchain.prompts import PromptTemplate\n",
    "\n",
    "custom_prompt = PromptTemplate(\n",
    "    input_variables=[\"context\", \"question\"],\n",
    "    template=\"\"\"\n",
    "    You are a rescue operations expert. Based on the following documents, identify which ones are most relevant for rescue missions.\n",
    "\n",
    "    Documents:\n",
    "    {context}\n",
    "\n",
    "    Question:\n",
    "    {question}\n",
    "\n",
    "    Answer in a clear, concise manner. If none are relevant, say so explicitly.\n",
    "    \"\"\"\n",
    ")\n",
    "\n",
    "qa_chain = RetrievalQA.from_chain_type(\n",
    "    llm=llm,\n",
    "    retriever=retriever,\n",
    "    chain_type=\"stuff\",  # or \"map_reduce\", \"refine\" if you want more control\n",
    "    chain_type_kwargs={\"prompt\": custom_prompt}\n",
    ")\n",
    "\n",
    "# Run the chain\n",
    "question = \"Given the following documents, which docs are good for rescue operations?\"\n",
    "response = qa_chain.run(question)\n",
    "print(response)\n",
    "print(\"Response with prompt generated.\")"
   ]
  }
 ],
 "metadata": {
  "kernelspec": {
   "display_name": ".venv",
   "language": "python",
   "name": "python3"
  },
  "language_info": {
   "codemirror_mode": {
    "name": "ipython",
    "version": 3
   },
   "file_extension": ".py",
   "mimetype": "text/x-python",
   "name": "python",
   "nbconvert_exporter": "python",
   "pygments_lexer": "ipython3",
   "version": "3.13.2"
  }
 },
 "nbformat": 4,
 "nbformat_minor": 5
}
