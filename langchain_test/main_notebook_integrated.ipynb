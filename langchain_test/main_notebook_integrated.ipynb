{
 "cells": [
  {
   "cell_type": "code",
   "execution_count": null,
   "id": "a933be00",
   "metadata": {},
   "outputs": [
    {
     "name": "stderr",
     "output_type": "stream",
     "text": [
      "c:\\personal\\_python\\fastapi\\PetshopAPIPython\\langchain_test\\.venv\\Lib\\site-packages\\tqdm\\auto.py:21: TqdmWarning: IProgress not found. Please update jupyter and ipywidgets. See https://ipywidgets.readthedocs.io/en/stable/user_install.html\n",
      "  from .autonotebook import tqdm as notebook_tqdm\n",
      "Loading checkpoint shards: 100%|██████████| 2/2 [00:55<00:00, 27.74s/it]\n",
      "Device set to use cpu\n"
     ]
    },
    {
     "name": "stdout",
     "output_type": "stream",
     "text": [
      "Model loaded.\n"
     ]
    },
    {
     "name": "stderr",
     "output_type": "stream",
     "text": [
      "C:\\Users\\admin\\AppData\\Local\\Temp\\ipykernel_22192\\3728606683.py:15: LangChainDeprecationWarning: The class `HuggingFacePipeline` was deprecated in LangChain 0.0.37 and will be removed in 1.0. An updated version of the class exists in the :class:`~langchain-huggingface package and should be used instead. To use it run `pip install -U :class:`~langchain-huggingface` and import as `from :class:`~langchain_huggingface import HuggingFacePipeline``.\n",
      "  llm = HuggingFacePipeline(pipeline=pipe)\n"
     ]
    },
    {
     "name": "stdout",
     "output_type": "stream",
     "text": [
      "Pipeline loaded.\n"
     ]
    }
   ],
   "source": [
    "from transformers import AutoTokenizer, AutoModelForCausalLM\n",
    "from langchain.llms import HuggingFacePipeline\n",
    "# from langchain.prompts import PromptTemplate\n",
    "# from langchain.chains import LLMChain\n",
    "from transformers import pipeline\n",
    "\n",
    "model_path = \"h:/ML_Models/_gemma/model/gemma-2b-it\"  # local folder\n",
    "\n",
    "tokenizer = AutoTokenizer.from_pretrained(model_path)\n",
    "\n",
    "model = AutoModelForCausalLM.from_pretrained(model_path)\n",
    "print(\"Model loaded.\")\n",
    "\n",
    "pipe = pipeline(\"text-generation\", model=model, tokenizer=tokenizer, max_new_tokens=512)\n",
    "llm = HuggingFacePipeline(pipeline=pipe)\n",
    "\n",
    "print(\"Pipeline loaded.\")"
   ]
  },
  {
   "cell_type": "code",
   "execution_count": 2,
   "id": "48bee70e",
   "metadata": {},
   "outputs": [
    {
     "name": "stderr",
     "output_type": "stream",
     "text": [
      "C:\\Users\\admin\\AppData\\Local\\Temp\\ipykernel_22192\\1625853733.py:5: LangChainDeprecationWarning: The class `HuggingFaceEmbeddings` was deprecated in LangChain 0.2.2 and will be removed in 1.0. An updated version of the class exists in the :class:`~langchain-huggingface package and should be used instead. To use it run `pip install -U :class:`~langchain-huggingface` and import as `from :class:`~langchain_huggingface import HuggingFaceEmbeddings``.\n",
      "  embedding_model = HuggingFaceEmbeddings(model_name=\"multi-qa-mpnet-base-dot-v1\")\n"
     ]
    },
    {
     "name": "stdout",
     "output_type": "stream",
     "text": [
      "Vector store loaded.\n"
     ]
    }
   ],
   "source": [
    "from langchain.embeddings import HuggingFaceEmbeddings\n",
    "from langchain_milvus import Milvus\n",
    "\n",
    "# Embedding model\n",
    "embedding_model = HuggingFaceEmbeddings(model_name=\"multi-qa-mpnet-base-dot-v1\")\n",
    "\n",
    "# Connect to your existing collection\n",
    "vector_store = Milvus(\n",
    "    embedding_model,\n",
    "    collection_name=\"Dogs_Breeds_milvus_EN_1\",\n",
    "    connection_args={\"host\": \"localhost\", \"port\": \"19530\"}\n",
    ")\n",
    "print(\"Vector store loaded.\")"
   ]
  },
  {
   "cell_type": "code",
   "execution_count": null,
   "id": "b4afbbe3",
   "metadata": {},
   "outputs": [
    {
     "name": "stdout",
     "output_type": "stream",
     "text": [
      "Retrieved 3 documents from Milvus for the query: 'dogs for rescue operations'\n"
     ]
    }
   ],
   "source": [
    "query_criteria = \"dogs for rescue operations\"\n",
    "results = vector_store.similarity_search(\n",
    "    query_criteria,\n",
    "    k=5,\n",
    ")\n",
    "print(f\"Retrieved {len(results)} documents from Milvus for the query: '{query_criteria}'\")\n"
   ]
  },
  {
   "cell_type": "code",
   "execution_count": null,
   "id": "06e3c821",
   "metadata": {},
   "outputs": [
    {
     "name": "stderr",
     "output_type": "stream",
     "text": [
      "C:\\Users\\admin\\AppData\\Local\\Temp\\ipykernel_22192\\2779256704.py:9: LangChainDeprecationWarning: The method `Chain.run` was deprecated in langchain 0.1.0 and will be removed in 1.0. Use :meth:`~invoke` instead.\n",
      "  response = qa_chain.run(question)\n"
     ]
    },
    {
     "name": "stdout",
     "output_type": "stream",
     "text": [
      "Use the following pieces of context to answer the question at the end. If you don't know the answer, just say that you don't know, don't try to make up an answer.\n",
      "\n",
      "GERMAN SHEPHERD Nationality: Germany. Origin: Known for its intelligence and learning ability, the German Shepherd has long been used as a guard dog, police dog, and guide dog—not for herding, as its name suggests. Description: Deep chest, not too wide. Body is deep but not long, though longer than its height at the withers. Well-formed ribcage, straight and muscular back. Broad, strong flanks. Tail is thick, reaching the hock, hanging and slightly curved at rest. Raised in motion but never above the back line. Medium-sized, almond-shaped eyes, preferably dark brown, with lively, intelligent, confident expression. Medium ears, broad at base, high-set, triangular, held upright and slightly forward. Head proportionate to body, moderately broad between ears. Strong muzzle, straight nasal bridge, firm lips, strong incisors with scissor bite. Long, flat shoulder blades set obliquely. Arm length exceeds chest depth. Hind legs are strong, broad, and muscular; femur should be angled relative to tibia. Use: Historically trained for various services, the German Shepherd has supported humans in many roles: 1. Human aid: In WWI, served as Red Cross dog—found wounded soldiers and carried first aid supplies. Also acted as messenger, sentry, and ammunition depot guard. 2. Guide dog: After WWI, trained to guide blind soldiers. Training spread from Switzerland to France in the 1930s. 3. Assistance tasks: Selectively bred for health and temperament to serve as guide dogs. Puppies are raised by volunteers, then undergo specialized training to 'see' for their blind owners. 4. Search and rescue: Effective in earthquakes and avalanches, tracking in mountainous terrain, locating lost people in fog, and alerting by digging or barking. 5. Scent tracking: Used by authorities to detect contraband, explosives, and goods in ports and airports. 6. Police companion: Employed by special forces for search and rescue, defense, and controlled attack. Each dog and handler must work as a team, ideally from puppyhood.\n",
      "\n",
      "SAINT BERNARD Nationality: Switzerland. Origin: Very ancient origins, descending from the Tibetan Mastiff and the mastiffs brought by Romans to the Alps 2000 years ago. The modern Saint Bernard emerged around the year 1000 at the monastery on the Great Saint Bernard Pass, founded by Father Bernard of Menthon. Monks crossed the ancient mastiff with Great Danes and Pyrenean Mountain Dogs. Their careful selection led to this remarkable breed, first appearing on a Swiss coat of arms in 1350. Its fame as a rescue dog began in the mid-18th century. Description: A giant among dog breeds—robust, muscular, with a powerful head. Minimum height: 70 cm for males, 65 cm for females. Weight: 55–80 kg. Broad, slightly convex skull with visible wrinkles; straight nasal bridge and pronounced stop; muzzle wider than long; drooping upper lip; strong, complete teeth; medium-sized, slightly sunken eyes, positioned forward, dark brown. Medium ears hang to the sides; strong neck with dewlap. Medium-length coat, smooth or slightly wavy, never curly. Coat color: red with white patches or white with red patches. Red varies in tone; often has a black mask. Temperament: Very gentle, obedient, loyal, calm, and thoughtful. Can sense weather changes. Often dislikes small dogs. Use: Historically used to rescue travelers and mountaineers in snowy passes of the Great Saint Bernard. Today, mainly a companion dog—not suitable for apartment living. Some are still used for avalanche rescue. The short-haired variety handles cold well and is preferred for mountain work. Note: Long-haired Saint Bernards need frequent grooming with wide-toothed combs and stiff brushes. Even if living in a garden, they require daily long walks.\n",
      "\n",
      "NEWFOUNDLAND Nationality: Canada. Origin: Some theories claim it originated on the island of Newfoundland, from which the breed takes its name. Others suggest that while it developed on the island, European settlers in the 16th and 17th centuries introduced the original stock. Basque fishermen brought Pyrenean dogs aboard, and the English brought water spaniels, Brig Dogs, and Mastiffs. The water dog may have contributed to the breed’s formation. A member of the Newfoundland Club of America speculated that the Tibetan Mastiff or a related breed may have arrived from the East via the Aleutian Islands and Alaska. According to this theory, the Newfoundland descends from a large black dog kept by certain Indigenous tribes, who considered it the perfect domestic animal, using it for hunting, fishing, pulling, and companionship. With many theories and opinions, its true origin remains a mystery. Description: A large, strong, active dog. Shoulder height: 71 cm for males, 66 cm for females. Weight: 63.5–68 kg for males, 49.9–54.4 kg for females. Colors include black, brown (from chocolate to bronze), and black-and-white. Black is traditional. Temperament: The Newfoundland’s expression reflects kindness and gentleness. Noted for its aquatic abilities. Dignified and cheerful, it is genuinely gentle and serious. An excellent guardian and swimmer, friendly and intelligent. Gets along well with other animals and children. Naturally empathetic. Use: A traditional lifesaving dog, instinctively rescues anything floating and brings it to shore. Just as the Saint Bernard is famous for snow rescues, the Newfoundland is renowned for saving lives in shipwrecks and water accidents.\n",
      "\n",
      "Question: Given the following documents, which docs are good for rescue operations?\n",
      "Helpful Answer: The documents indicate that the Saint Bernard is a historically used breed for rescue operations, while the German Shepherd is used for a variety of services.\n",
      "Response generated.\n"
     ]
    }
   ],
   "source": [
    "# Use in LangChain RAG\n",
    "from langchain.chains import RetrievalQA\n",
    "from langchain.vectorstores import FAISS\n",
    "retriever = FAISS.from_documents(results, embedding=embedding_model).as_retriever()\n",
    "qa_chain = RetrievalQA.from_chain_type(llm=llm, retriever=retriever, chain_type=\"stuff\", )\n",
    "\n",
    "question = \"Given the following documents, which docs are good for rescue operations?\"\n",
    "\n",
    "response = qa_chain.run(question)\n",
    "\n",
    "print(response)\n",
    "print(\"Response generated.\")"
   ]
  },
  {
   "cell_type": "code",
   "execution_count": 8,
   "id": "52e441da",
   "metadata": {},
   "outputs": [
    {
     "name": "stdout",
     "output_type": "stream",
     "text": [
      "\n",
      "    You are a rescue operations expert. Based on the following documents, identify which ones are most relevant for rescue missions.\n",
      "\n",
      "    Documents:\n",
      "    GERMAN SHEPHERD Nationality: Germany. Origin: Known for its intelligence and learning ability, the German Shepherd has long been used as a guard dog, police dog, and guide dog—not for herding, as its name suggests. Description: Deep chest, not too wide. Body is deep but not long, though longer than its height at the withers. Well-formed ribcage, straight and muscular back. Broad, strong flanks. Tail is thick, reaching the hock, hanging and slightly curved at rest. Raised in motion but never above the back line. Medium-sized, almond-shaped eyes, preferably dark brown, with lively, intelligent, confident expression. Medium ears, broad at base, high-set, triangular, held upright and slightly forward. Head proportionate to body, moderately broad between ears. Strong muzzle, straight nasal bridge, firm lips, strong incisors with scissor bite. Long, flat shoulder blades set obliquely. Arm length exceeds chest depth. Hind legs are strong, broad, and muscular; femur should be angled relative to tibia. Use: Historically trained for various services, the German Shepherd has supported humans in many roles: 1. Human aid: In WWI, served as Red Cross dog—found wounded soldiers and carried first aid supplies. Also acted as messenger, sentry, and ammunition depot guard. 2. Guide dog: After WWI, trained to guide blind soldiers. Training spread from Switzerland to France in the 1930s. 3. Assistance tasks: Selectively bred for health and temperament to serve as guide dogs. Puppies are raised by volunteers, then undergo specialized training to 'see' for their blind owners. 4. Search and rescue: Effective in earthquakes and avalanches, tracking in mountainous terrain, locating lost people in fog, and alerting by digging or barking. 5. Scent tracking: Used by authorities to detect contraband, explosives, and goods in ports and airports. 6. Police companion: Employed by special forces for search and rescue, defense, and controlled attack. Each dog and handler must work as a team, ideally from puppyhood.\n",
      "\n",
      "SAINT BERNARD Nationality: Switzerland. Origin: Very ancient origins, descending from the Tibetan Mastiff and the mastiffs brought by Romans to the Alps 2000 years ago. The modern Saint Bernard emerged around the year 1000 at the monastery on the Great Saint Bernard Pass, founded by Father Bernard of Menthon. Monks crossed the ancient mastiff with Great Danes and Pyrenean Mountain Dogs. Their careful selection led to this remarkable breed, first appearing on a Swiss coat of arms in 1350. Its fame as a rescue dog began in the mid-18th century. Description: A giant among dog breeds—robust, muscular, with a powerful head. Minimum height: 70 cm for males, 65 cm for females. Weight: 55–80 kg. Broad, slightly convex skull with visible wrinkles; straight nasal bridge and pronounced stop; muzzle wider than long; drooping upper lip; strong, complete teeth; medium-sized, slightly sunken eyes, positioned forward, dark brown. Medium ears hang to the sides; strong neck with dewlap. Medium-length coat, smooth or slightly wavy, never curly. Coat color: red with white patches or white with red patches. Red varies in tone; often has a black mask. Temperament: Very gentle, obedient, loyal, calm, and thoughtful. Can sense weather changes. Often dislikes small dogs. Use: Historically used to rescue travelers and mountaineers in snowy passes of the Great Saint Bernard. Today, mainly a companion dog—not suitable for apartment living. Some are still used for avalanche rescue. The short-haired variety handles cold well and is preferred for mountain work. Note: Long-haired Saint Bernards need frequent grooming with wide-toothed combs and stiff brushes. Even if living in a garden, they require daily long walks.\n",
      "\n",
      "NEWFOUNDLAND Nationality: Canada. Origin: Some theories claim it originated on the island of Newfoundland, from which the breed takes its name. Others suggest that while it developed on the island, European settlers in the 16th and 17th centuries introduced the original stock. Basque fishermen brought Pyrenean dogs aboard, and the English brought water spaniels, Brig Dogs, and Mastiffs. The water dog may have contributed to the breed’s formation. A member of the Newfoundland Club of America speculated that the Tibetan Mastiff or a related breed may have arrived from the East via the Aleutian Islands and Alaska. According to this theory, the Newfoundland descends from a large black dog kept by certain Indigenous tribes, who considered it the perfect domestic animal, using it for hunting, fishing, pulling, and companionship. With many theories and opinions, its true origin remains a mystery. Description: A large, strong, active dog. Shoulder height: 71 cm for males, 66 cm for females. Weight: 63.5–68 kg for males, 49.9–54.4 kg for females. Colors include black, brown (from chocolate to bronze), and black-and-white. Black is traditional. Temperament: The Newfoundland’s expression reflects kindness and gentleness. Noted for its aquatic abilities. Dignified and cheerful, it is genuinely gentle and serious. An excellent guardian and swimmer, friendly and intelligent. Gets along well with other animals and children. Naturally empathetic. Use: A traditional lifesaving dog, instinctively rescues anything floating and brings it to shore. Just as the Saint Bernard is famous for snow rescues, the Newfoundland is renowned for saving lives in shipwrecks and water accidents.\n",
      "\n",
      "    Question:\n",
      "    Given the following documents, which docs are good for rescue operations?\n",
      "\n",
      "    Answer in a clear, concise manner. If none are relevant, say so explicitly.\n",
      "    \n",
      "The documents that are most relevant for rescue missions are:\n",
      "\n",
      "- German Shepherd Nationality: Germany\n",
      "- Saint Bernard Nationality: Switzerland\n",
      "\n",
      "The documents provide information about the history, origin, and characteristics of German Shepherds and Saint Bernards, which are the breeds most commonly used for rescue missions.\n",
      "Response with prompt generated.\n"
     ]
    }
   ],
   "source": [
    "#Answers using prompt\n",
    "from langchain.chains import RetrievalQA\n",
    "from langchain.prompts import PromptTemplate\n",
    "\n",
    "custom_prompt = PromptTemplate(\n",
    "    input_variables=[\"context\", \"question\"],\n",
    "    template=\"\"\"\n",
    "    You are a rescue operations expert. Based on the following documents, identify which ones are most relevant for rescue missions.\n",
    "\n",
    "    Documents:\n",
    "    {context}\n",
    "\n",
    "    Question:\n",
    "    {question}\n",
    "\n",
    "    Answer in a clear, concise manner. If none are relevant, say so explicitly.\n",
    "    \"\"\"\n",
    ")\n",
    "\n",
    "qa_chain = RetrievalQA.from_chain_type(\n",
    "    llm=llm,\n",
    "    retriever=retriever,\n",
    "    chain_type=\"stuff\",  # or \"map_reduce\", \"refine\" if you want more control\n",
    "    chain_type_kwargs={\"prompt\": custom_prompt}\n",
    ")\n",
    "\n",
    "# Run the chain\n",
    "question = \"Given the following documents, which docs are good for rescue operations?\"\n",
    "response = qa_chain.run(question)\n",
    "print(response)\n",
    "print(\"Response with prompt generated.\")"
   ]
  }
 ],
 "metadata": {
  "kernelspec": {
   "display_name": ".venv",
   "language": "python",
   "name": "python3"
  },
  "language_info": {
   "codemirror_mode": {
    "name": "ipython",
    "version": 3
   },
   "file_extension": ".py",
   "mimetype": "text/x-python",
   "name": "python",
   "nbconvert_exporter": "python",
   "pygments_lexer": "ipython3",
   "version": "3.13.2"
  }
 },
 "nbformat": 4,
 "nbformat_minor": 5
}
