{
 "cells": [
  {
   "cell_type": "code",
   "execution_count": 1,
   "id": "eb97e600",
   "metadata": {},
   "outputs": [],
   "source": [
    "from langgraph.graph import StateGraph\n",
    "from langchain_core.prompts import ChatPromptTemplate\n",
    "from langchain_core.output_parsers import StrOutputParser\n",
    "from langchain.llms import HuggingFacePipeline\n",
    "from transformers import AutoTokenizer, AutoModelForCausalLM, pipeline\n",
    "from agent_state_lib import AgentState\n",
    "from petshop_memory_loader import load_memory_nodes\n",
    "from langchain_core.runnables import RunnableLambda"
   ]
  },
  {
   "cell_type": "code",
   "execution_count": 2,
   "id": "69785e45",
   "metadata": {},
   "outputs": [
    {
     "name": "stdout",
     "output_type": "stream",
     "text": [
      "Loading memories...\n",
      "Loaded 4 messages for user_id pepuso\n",
      "state:\n",
      "{'facts_memory': \"PEKINGESE Nationality: China. Origin: Likely has Lhasa Apso blood, but its origins are lost in the mists of over 4,000 years. For centuries, it was the favorite of the imperial family in Beijing and was brought to Europe in 1860 by British and French soldiers who found specimens in the looted Summer Palace. Description: Weight ranges from 2 to 8 kg. Broad head with wide spacing between the eyes; short but prominent nose; wrinkled muzzle; deep stop; tightly closed mouth that should not reveal teeth or tongue; large, dark, shiny, slightly protruding eyes; heart-shaped ears with long feathering; short, thick neck; tail curled over the back; strong bone structure; long, straight coat with extended mane and abundant feathering. All colors are accepted except liver and albino. Temperament: Sensitive, extraordinarily affectionate with its owner, wary of strangers, dignified, obedient, and brave to the point of recklessness. Use: A classic lap and apartment dog that can sometimes become a barking guardian. Note: Requires frequent grooming and dental care to prevent early tooth loss.\\nSHIH-TZU Nationality: China. Origin: Descends from the Tibetan Lhasa Apso, bred for centuries by Buddhist monks. Alongside the Pekingese, it was a favorite in the Chinese imperial court. The first Shih-Tzus arrived in England in 1930, where the breed was carefully refined. Description: Maximum weight around 9 kg; height 27 cm. Round, broad head between the eyes, with thick beard and mustache; square, short muzzle; long nasal bridge and black nose; large, round, dark eyes; long, drooping ears with hair so rich it blends with the neck; thick tail curled over the back. Coat is long and abundant (not curly) with good undercoat. All colors are accepted. Temperament: Lively, playful, child-friendly, full of oriental charm.\\nCHOW-CHOW Nationality: China. Origin: First depicted in a Chinese bas-relief 2000 years ago, but its spread in Europe began in the late 19th century. The Chow-Chow was brought to England by British merchant ships, and one was gifted to the Prince of Wales, later Edward VII. Description: Lion-like appearance with noble and proud bearing; broad head and flat skull; muzzle widens toward the eyes and tapers without being pointed; black nose; small, slanted, dark eyes; triangular, erect ears tilted forward. Tongue, palate, gums, and lips must be violet-colored. Long, dense coat with woolly undercoat. Its thick mane gives it a lion-like look. Colors include blonde, red, cream, blue, black, silver-gray, and rarely white—always solid-colored. Spots are not allowed. Height should be between 55 and 60 cm, never below 45.7 cm. Broad, deep chest; short, strong loins; tail heavily furred and carried over the back. Temperament: In China, used to guard three-masted boats and pull sleds; its meat and skin were also traded. This harsh past and lack of affection have made the Chow-Chow somewhat aloof, distant, and indifferent to play. Still, it is loyal, sincere, and deeply attached to its owner. Dislikes leashes and muzzles but is clean, patient, and well-mannered. Use: A companion dog suited to calm individuals. Requires frequent brushing, especially in summer. Historically used as a guard dog, wolf hunter, and sled puller.\\nSHAR PEI Nationality: China. Origin: A hunting and guard dog known in China for hundreds of years. Originates near Guangzhou in a village called Dialack. By the early 1960s, there were enough Shar-Peis in Hong Kong, kept by Chinese working-class families for fighting. Later, enthusiasts abandoned fighting and began showing them in exhibitions. In the 1970s, selective breeding produced the heavily wrinkled type. The United States became the first and only country to export Shar-Peis globally, as the Hong Kong Kennel Club aimed to protect and promote the breed. Description: Strong and compact. Shar-Pei means 'sand skin'. Skin must be thick with short, bristly hair. Puppies have deep wrinkles; adults retain folds only on the forehead and withers. Body length from sternum to rump should match height at withers; females may be slightly longer. Muzzle length equals skull length. Distance from nose to stop equals that from forehead to occiput. Traditional Shar-Peis have shrunk in size since 1960. Japanese breeders prefer large dogs called 'high head' or 'big horse'. Height should not exceed 58 cm at the withers; taller dogs are desirable for breeding. Temperament: Needs lots of affection—otherwise becomes unhappy and may fall ill from feeling abandoned. Sweet, charming, cheerful; owners say it’s trouble-free at home. Easily trained, even as a puppy. Doesn’t like strangers but rarely bites. Also dislikes other dogs—considered picky in social interactions. Use: Its exotic look and many wrinkles (which fade with age) draw attention. Calm and refined, it adapts beautifully to family life and becomes a true household member.\\nBULLDOG Nationality: Great Britain. Origin: The breed descends from the ancient Asian Mastiff but was fully developed in Great Britain. The medieval name 'Bulldog' referred not only to its robust, bull-like appearance but also to its strength in facing bulls in arena fights. These were banned by law in the last century, nearly causing the breed’s extinction. Description: Small in stature, broad, compact, with an astonishingly large and massive head. Ideal weight: males 24–25 kg, females 22–23 kg. Height (not specified in the standard) ranges from 30 to 35 cm. Skull should be wide (the wider, the better), with cheeks extending to the eyes; the skin covering the skull and forehead should be loose and wrinkled. Muzzle is short and grumpy; nose broad and black; nostrils large, wide, black, with a straight, well-defined vertical line. Upper lip thick, wide, hanging, and deep, fully covering the lower jaw; upper jaw should protrude beyond the lower. Eyes round, far apart, very dark; ears small and thin, ideally in 'rose' shape with inner folds turned back. Arched neck with dewlap; short, low-set tail; short, soft coat in fawn and white, white, or brindle and white. Black is not accepted. Temperament: Once used in fights, it was aggressive and bloodthirsty—so much so that in Rome, a decree banned Bulldogs from public streets, even on a leash. Selective breeding over the past century has softened its temperament, making it a gentle, reserved, dignified, loyal, clean, aristocratic dog—beautiful in its own ugliness. Use: After its gladiator days, it served as a guard dog, police dog, and army aide. In the U.S., one Bulldog earned five war citations and a bronze medal; another was named corporal. Today, it’s an excellent companion dog. Note: Due to its large head, puppies are often born via cesarean section. Many females are infertile, contributing to the breed’s high price.\", 'profile_memory': 'pepuso has a 1-year-old Dachshund named canela, described as energetic.', 'chat_memory': 'Human: my puppy runs along the table very often, why?\\nAI: our puppyâ€™s behavior likely stems from high energy levels and curiosity, which are common in young dogs. Tables offer elevation and visibility, making them an exciting playground â€” especially if the puppy hasnâ€™t yet learned boundaries.\\nHuman: does having a companion may help her to be less active\\nAI: A companion can help redirect her energy through play and social interaction, but it may not reduce her activity level. Instead, it often leads to more balanced behavior, as dogs learn to self-regulate through shared routines and stimulation.'}\n",
      "Profile Memory:\n",
      "pepuso has a 1-year-old Dachshund named canela, described as energetic.\n",
      "Facts Memory:\n",
      "PEKINGESE Nationality: China. Origin: Likely has Lhasa Apso blood, but its origins are lost in the mists of over 4,000 years. For centuries, it was the favorite of the imperial family in Beijing and was brought to Europe in 1860 by British and French soldiers who found specimens in the looted Summer Palace. Description: Weight ranges from 2 to 8 kg. Broad head with wide spacing between the eyes; short but prominent nose; wrinkled muzzle; deep stop; tightly closed mouth that should not reveal teeth or tongue; large, dark, shiny, slightly protruding eyes; heart-shaped ears with long feathering; short, thick neck; tail curled over the back; strong bone structure; long, straight coat with extended mane and abundant feathering. All colors are accepted except liver and albino. Temperament: Sensitive, extraordinarily affectionate with its owner, wary of strangers, dignified, obedient, and brave to the point of recklessness. Use: A classic lap and apartment dog that can sometimes become a barking guardian. Note: Requires frequent grooming and dental care to prevent early tooth loss.\n",
      "SHIH-TZU Nationality: China. Origin: Descends from the Tibetan Lhasa Apso, bred for centuries by Buddhist monks. Alongside the Pekingese, it was a favorite in the Chinese imperial court. The first Shih-Tzus arrived in England in 1930, where the breed was carefully refined. Description: Maximum weight around 9 kg; height 27 cm. Round, broad head between the eyes, with thick beard and mustache; square, short muzzle; long nasal bridge and black nose; large, round, dark eyes; long, drooping ears with hair so rich it blends with the neck; thick tail curled over the back. Coat is long and abundant (not curly) with good undercoat. All colors are accepted. Temperament: Lively, playful, child-friendly, full of oriental charm.\n",
      "CHOW-CHOW Nationality: China. Origin: First depicted in a Chinese bas-relief 2000 years ago, but its spread in Europe began in the late 19th century. The Chow-Chow was brought to England by British merchant ships, and one was gifted to the Prince of Wales, later Edward VII. Description: Lion-like appearance with noble and proud bearing; broad head and flat skull; muzzle widens toward the eyes and tapers without being pointed; black nose; small, slanted, dark eyes; triangular, erect ears tilted forward. Tongue, palate, gums, and lips must be violet-colored. Long, dense coat with woolly undercoat. Its thick mane gives it a lion-like look. Colors include blonde, red, cream, blue, black, silver-gray, and rarely white—always solid-colored. Spots are not allowed. Height should be between 55 and 60 cm, never below 45.7 cm. Broad, deep chest; short, strong loins; tail heavily furred and carried over the back. Temperament: In China, used to guard three-masted boats and pull sleds; its meat and skin were also traded. This harsh past and lack of affection have made the Chow-Chow somewhat aloof, distant, and indifferent to play. Still, it is loyal, sincere, and deeply attached to its owner. Dislikes leashes and muzzles but is clean, patient, and well-mannered. Use: A companion dog suited to calm individuals. Requires frequent brushing, especially in summer. Historically used as a guard dog, wolf hunter, and sled puller.\n",
      "SHAR PEI Nationality: China. Origin: A hunting and guard dog known in China for hundreds of years. Originates near Guangzhou in a village called Dialack. By the early 1960s, there were enough Shar-Peis in Hong Kong, kept by Chinese working-class families for fighting. Later, enthusiasts abandoned fighting and began showing them in exhibitions. In the 1970s, selective breeding produced the heavily wrinkled type. The United States became the first and only country to export Shar-Peis globally, as the Hong Kong Kennel Club aimed to protect and promote the breed. Description: Strong and compact. Shar-Pei means 'sand skin'. Skin must be thick with short, bristly hair. Puppies have deep wrinkles; adults retain folds only on the forehead and withers. Body length from sternum to rump should match height at withers; females may be slightly longer. Muzzle length equals skull length. Distance from nose to stop equals that from forehead to occiput. Traditional Shar-Peis have shrunk in size since 1960. Japanese breeders prefer large dogs called 'high head' or 'big horse'. Height should not exceed 58 cm at the withers; taller dogs are desirable for breeding. Temperament: Needs lots of affection—otherwise becomes unhappy and may fall ill from feeling abandoned. Sweet, charming, cheerful; owners say it’s trouble-free at home. Easily trained, even as a puppy. Doesn’t like strangers but rarely bites. Also dislikes other dogs—considered picky in social interactions. Use: Its exotic look and many wrinkles (which fade with age) draw attention. Calm and refined, it adapts beautifully to family life and becomes a true household member.\n",
      "BULLDOG Nationality: Great Britain. Origin: The breed descends from the ancient Asian Mastiff but was fully developed in Great Britain. The medieval name 'Bulldog' referred not only to its robust, bull-like appearance but also to its strength in facing bulls in arena fights. These were banned by law in the last century, nearly causing the breed’s extinction. Description: Small in stature, broad, compact, with an astonishingly large and massive head. Ideal weight: males 24–25 kg, females 22–23 kg. Height (not specified in the standard) ranges from 30 to 35 cm. Skull should be wide (the wider, the better), with cheeks extending to the eyes; the skin covering the skull and forehead should be loose and wrinkled. Muzzle is short and grumpy; nose broad and black; nostrils large, wide, black, with a straight, well-defined vertical line. Upper lip thick, wide, hanging, and deep, fully covering the lower jaw; upper jaw should protrude beyond the lower. Eyes round, far apart, very dark; ears small and thin, ideally in 'rose' shape with inner folds turned back. Arched neck with dewlap; short, low-set tail; short, soft coat in fawn and white, white, or brindle and white. Black is not accepted. Temperament: Once used in fights, it was aggressive and bloodthirsty—so much so that in Rome, a decree banned Bulldogs from public streets, even on a leash. Selective breeding over the past century has softened its temperament, making it a gentle, reserved, dignified, loyal, clean, aristocratic dog—beautiful in its own ugliness. Use: After its gladiator days, it served as a guard dog, police dog, and army aide. In the U.S., one Bulldog earned five war citations and a bronze medal; another was named corporal. Today, it’s an excellent companion dog. Note: Due to its large head, puppies are often born via cesarean section. Many females are infertile, contributing to the breed’s high price.\n",
      "chat history:\n",
      "Human: my puppy runs along the table very often, why?\n",
      "AI: our puppyâ€™s behavior likely stems from high energy levels and curiosity, which are common in young dogs. Tables offer elevation and visibility, making them an exciting playground â€” especially if the puppy hasnâ€™t yet learned boundaries.\n",
      "Human: does having a companion may help her to be less active\n",
      "AI: A companion can help redirect her energy through play and social interaction, but it may not reduce her activity level. Instead, it often leads to more balanced behavior, as dogs learn to self-regulate through shared routines and stimulation.\n"
     ]
    }
   ],
   "source": [
    "\n",
    "print(\"Loading memories...\")\n",
    "def load_memory_test():\n",
    "    db_path = \"../sqlite_test/petshopdb/petshop_database.db\"\n",
    "    user_id = \"pepuso\"\n",
    "    embedded_question = \"which dogs are from China?\"\n",
    "\n",
    "    memory_chain:RunnableLambda = load_memory_nodes(parallelExecution=True)\n",
    "    state = memory_chain.invoke({\"db_path\":db_path, \"user_id\": user_id, \"embedded_question\": embedded_question})\n",
    "\n",
    "    print(\"state:\")\n",
    "    print(state)\n",
    "    \n",
    "    print(\"Profile Memory:\")    \n",
    "    print(state[\"profile_memory\"])\n",
    "\n",
    "    print(\"Facts Memory:\")\n",
    "    print(state[\"facts_memory\"])\n",
    "\n",
    "    print(\"chat history:\")\n",
    "    print(state[\"chat_memory\"])\n",
    "\n",
    "load_memory_test()\n"
   ]
  },
  {
   "cell_type": "code",
   "execution_count": null,
   "id": "a459c5ad",
   "metadata": {},
   "outputs": [],
   "source": [
    "model_path = \"h:/ML_Models/_gemma/model/gemma-2b-it\"  # local folder\n",
    "\n",
    "tokenizer = AutoTokenizer.from_pretrained(model_path)\n",
    "model = AutoModelForCausalLM.from_pretrained(model_path)\n",
    "pipe = pipeline(\"text-generation\", model=model, tokenizer=tokenizer, max_new_tokens=512)\n",
    "llm = HuggingFacePipeline(pipeline=pipe)\n",
    "print(\"Model loaded.\")\n",
    "\n",
    "prompt = ChatPromptTemplate.from_messages([\n",
    "    (\"system\", \"Answer based on Profile and Docs and Chat History. If you don't find relevant information, just say you don't know and use your knowledge. Be very concise.\"),\n",
    "    (\"human\", \"{question}\\n\\nDocs:\\n{facts_memory}\\n\\nProfile:\\n{profile_memory}\\n\\nChat History:\\n{chat_memory}\"),\n",
    "])\n",
    "\n",
    "chain = prompt | llm | StrOutputParser()"
   ]
  },
  {
   "cell_type": "code",
   "execution_count": null,
   "id": "d4201dd5",
   "metadata": {},
   "outputs": [],
   "source": [
    "def setup_questions(state: AgentState):\n",
    "    print(\"collect question from user\", state)\n",
    "    #hardcoded for now\n",
    "    state[\"embedded_question\"] = \"which dogs have small size?\"\n",
    "    state[\"question\"] = \"which dogs are good companion for mini dachshunds?\"\n",
    "    state[\"user_id\"] =  \"pepuso\"\n",
    "    state[\"db_path\"] = \"../sqlite_test/petshopdb/petshop_database.db\"\n",
    "    return state\n",
    "\n",
    "\n",
    "def recover_memory(state: AgentState):\n",
    "    print(\"recover facts here\", state)\n",
    "    \n",
    "    memory_chain:RunnableLambda = load_memory_nodes()\n",
    "    state = memory_chain.invoke(state)\n",
    "    return state\n",
    "\n",
    "def generate_answer(state: AgentState):\n",
    "    print(\"generate answer here\", state)\n",
    "    answer = chain.invoke({\n",
    "        \"question\": state[\"question\"],\n",
    "        \"profile_memory\": \"\\n\".join(state[\"profile_memory\"]),\n",
    "        \"facts_memory\": \"\\n\".join(state[\"facts_memory\"]),\n",
    "        \"chat_memory\": state[\"chat_memory\"]\n",
    "    })\n",
    "\n",
    "    return {**state, \"answer\": answer}\n"
   ]
  },
  {
   "cell_type": "code",
   "execution_count": null,
   "id": "5829be6f",
   "metadata": {},
   "outputs": [],
   "source": [
    "graph = StateGraph(AgentState)\n",
    "graph.add_node(\"setup\",setup_questions)\n",
    "graph.add_node(\"remember\",recover_memory)\n",
    "graph.add_node(\"reason\", generate_answer)\n",
    "\n",
    "graph.set_entry_point(\"setup\")\n",
    "graph.add_edge(\"setup\",\"remember\")\n",
    "graph.add_edge(\"remember\",\"reason\")\n",
    "\n",
    "graph.set_finish_point(\"reason\")\n",
    "agent = graph.compile()"
   ]
  },
  {
   "cell_type": "code",
   "execution_count": null,
   "id": "0229c8f2",
   "metadata": {},
   "outputs": [],
   "source": [
    "response = agent.invoke({  \n",
    "})\n",
    "print(response[\"answer\"])\n"
   ]
  }
 ],
 "metadata": {
  "kernelspec": {
   "display_name": ".venv",
   "language": "python",
   "name": "python3"
  },
  "language_info": {
   "codemirror_mode": {
    "name": "ipython",
    "version": 3
   },
   "file_extension": ".py",
   "mimetype": "text/x-python",
   "name": "python",
   "nbconvert_exporter": "python",
   "pygments_lexer": "ipython3",
   "version": "3.13.2"
  }
 },
 "nbformat": 4,
 "nbformat_minor": 5
}
