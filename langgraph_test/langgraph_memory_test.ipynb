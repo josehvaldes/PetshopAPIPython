{
 "cells": [
  {
   "cell_type": "code",
   "execution_count": 1,
   "id": "eb97e600",
   "metadata": {},
   "outputs": [
    {
     "name": "stderr",
     "output_type": "stream",
     "text": [
      "c:\\personal\\_python\\fastapi\\PetshopAPIPython\\langgraph_test\\petshop_memory_loader.py:12: LangChainDeprecationWarning: The class `HuggingFaceEmbeddings` was deprecated in LangChain 0.2.2 and will be removed in 1.0. An updated version of the class exists in the :class:`~langchain-huggingface package and should be used instead. To use it run `pip install -U :class:`~langchain-huggingface` and import as `from :class:`~langchain_huggingface import HuggingFaceEmbeddings``.\n",
      "  embedding_model = HuggingFaceEmbeddings(model_name=\"multi-qa-mpnet-base-dot-v1\")\n"
     ]
    }
   ],
   "source": [
    "from langgraph.graph import StateGraph\n",
    "from langchain_core.prompts import ChatPromptTemplate\n",
    "from langchain_core.output_parsers import StrOutputParser\n",
    "from agent_state_lib import AgentState, MemoryDict\n",
    "\n",
    "from transformers import AutoTokenizer, AutoModelForCausalLM, pipeline\n",
    "from langchain.llms import HuggingFacePipeline\n",
    "from petshop_memory_loader import load_memory"
   ]
  },
  {
   "cell_type": "code",
   "execution_count": 2,
   "id": "69785e45",
   "metadata": {},
   "outputs": [
    {
     "name": "stdout",
     "output_type": "stream",
     "text": [
      "Loading memories...\n",
      "Loaded 4 messages for user_id pepuso\n",
      "Profile Memory:\n",
      "['pepuso has a 1-year-old Dachshund named canela, described as energetic.']\n"
     ]
    },
    {
     "name": "stderr",
     "output_type": "stream",
     "text": [
      "c:\\personal\\_python\\fastapi\\PetshopAPIPython\\langgraph_test\\petshop_memory_loader.py:24: LangChainDeprecationWarning: Please see the migration guide at: https://python.langchain.com/docs/versions/migrating_memory/\n",
      "  milvus_facts = VectorStoreRetrieverMemory(retriever=retriever, memory_key=facts_key)\n",
      "c:\\personal\\_python\\fastapi\\PetshopAPIPython\\langgraph_test\\petshop_memory_loader.py:26: LangChainDeprecationWarning: Please see the migration guide at: https://python.langchain.com/docs/versions/migrating_memory/\n",
      "  chat_memory = ConversationBufferMemory(memory_key=\"chat_history\", return_messages=True)\n"
     ]
    },
    {
     "name": "stdout",
     "output_type": "stream",
     "text": [
      "Facts Memory:\n",
      "PEKINGESE Nationality: China. Origin: Likely has Lhasa Apso blood, but its origins are lost in the mists of over 4,000 years. For centuries, it was the favorite of the imperial family in Beijing and was brought to Europe in 1860 by British and French soldiers who found specimens in the looted Summer Palace. Description: Weight ranges from 2 to 8 kg. Broad head with wide spacing between the eyes; short but prominent nose; wrinkled muzzle; deep stop; tightly closed mouth that should not reveal teeth or tongue; large, dark, shiny, slightly protruding eyes; heart-shaped ears with long feathering; short, thick neck; tail curled over the back; strong bone structure; long, straight coat with extended mane and abundant feathering. All colors are accepted except liver and albino. Temperament: Sensitive, extraordinarily affectionate with its owner, wary of strangers, dignified, obedient, and brave to the point of recklessness. Use: A classic lap and apartment dog that can sometimes become a barking guardian. Note: Requires frequent grooming and dental care to prevent early tooth loss.\n",
      "SHIH-TZU Nationality: China. Origin: Descends from the Tibetan Lhasa Apso, bred for centuries by Buddhist monks. Alongside the Pekingese, it was a favorite in the Chinese imperial court. The first Shih-Tzus arrived in England in 1930, where the breed was carefully refined. Description: Maximum weight around 9 kg; height 27 cm. Round, broad head between the eyes, with thick beard and mustache; square, short muzzle; long nasal bridge and black nose; large, round, dark eyes; long, drooping ears with hair so rich it blends with the neck; thick tail curled over the back. Coat is long and abundant (not curly) with good undercoat. All colors are accepted. Temperament: Lively, playful, child-friendly, full of oriental charm.\n",
      "CHOW-CHOW Nationality: China. Origin: First depicted in a Chinese bas-relief 2000 years ago, but its spread in Europe began in the late 19th century. The Chow-Chow was brought to England by British merchant ships, and one was gifted to the Prince of Wales, later Edward VII. Description: Lion-like appearance with noble and proud bearing; broad head and flat skull; muzzle widens toward the eyes and tapers without being pointed; black nose; small, slanted, dark eyes; triangular, erect ears tilted forward. Tongue, palate, gums, and lips must be violet-colored. Long, dense coat with woolly undercoat. Its thick mane gives it a lion-like look. Colors include blonde, red, cream, blue, black, silver-gray, and rarely white—always solid-colored. Spots are not allowed. Height should be between 55 and 60 cm, never below 45.7 cm. Broad, deep chest; short, strong loins; tail heavily furred and carried over the back. Temperament: In China, used to guard three-masted boats and pull sleds; its meat and skin were also traded. This harsh past and lack of affection have made the Chow-Chow somewhat aloof, distant, and indifferent to play. Still, it is loyal, sincere, and deeply attached to its owner. Dislikes leashes and muzzles but is clean, patient, and well-mannered. Use: A companion dog suited to calm individuals. Requires frequent brushing, especially in summer. Historically used as a guard dog, wolf hunter, and sled puller.\n",
      "SHAR PEI Nationality: China. Origin: A hunting and guard dog known in China for hundreds of years. Originates near Guangzhou in a village called Dialack. By the early 1960s, there were enough Shar-Peis in Hong Kong, kept by Chinese working-class families for fighting. Later, enthusiasts abandoned fighting and began showing them in exhibitions. In the 1970s, selective breeding produced the heavily wrinkled type. The United States became the first and only country to export Shar-Peis globally, as the Hong Kong Kennel Club aimed to protect and promote the breed. Description: Strong and compact. Shar-Pei means 'sand skin'. Skin must be thick with short, bristly hair. Puppies have deep wrinkles; adults retain folds only on the forehead and withers. Body length from sternum to rump should match height at withers; females may be slightly longer. Muzzle length equals skull length. Distance from nose to stop equals that from forehead to occiput. Traditional Shar-Peis have shrunk in size since 1960. Japanese breeders prefer large dogs called 'high head' or 'big horse'. Height should not exceed 58 cm at the withers; taller dogs are desirable for breeding. Temperament: Needs lots of affection—otherwise becomes unhappy and may fall ill from feeling abandoned. Sweet, charming, cheerful; owners say it’s trouble-free at home. Easily trained, even as a puppy. Doesn’t like strangers but rarely bites. Also dislikes other dogs—considered picky in social interactions. Use: Its exotic look and many wrinkles (which fade with age) draw attention. Calm and refined, it adapts beautifully to family life and becomes a true household member.\n",
      "BULLDOG Nationality: Great Britain. Origin: The breed descends from the ancient Asian Mastiff but was fully developed in Great Britain. The medieval name 'Bulldog' referred not only to its robust, bull-like appearance but also to its strength in facing bulls in arena fights. These were banned by law in the last century, nearly causing the breed’s extinction. Description: Small in stature, broad, compact, with an astonishingly large and massive head. Ideal weight: males 24–25 kg, females 22–23 kg. Height (not specified in the standard) ranges from 30 to 35 cm. Skull should be wide (the wider, the better), with cheeks extending to the eyes; the skin covering the skull and forehead should be loose and wrinkled. Muzzle is short and grumpy; nose broad and black; nostrils large, wide, black, with a straight, well-defined vertical line. Upper lip thick, wide, hanging, and deep, fully covering the lower jaw; upper jaw should protrude beyond the lower. Eyes round, far apart, very dark; ears small and thin, ideally in 'rose' shape with inner folds turned back. Arched neck with dewlap; short, low-set tail; short, soft coat in fawn and white, white, or brindle and white. Black is not accepted. Temperament: Once used in fights, it was aggressive and bloodthirsty—so much so that in Rome, a decree banned Bulldogs from public streets, even on a leash. Selective breeding over the past century has softened its temperament, making it a gentle, reserved, dignified, loyal, clean, aristocratic dog—beautiful in its own ugliness. Use: After its gladiator days, it served as a guard dog, police dog, and army aide. In the U.S., one Bulldog earned five war citations and a bronze medal; another was named corporal. Today, it’s an excellent companion dog. Note: Due to its large head, puppies are often born via cesarean section. Many females are infertile, contributing to the breed’s high price.\n",
      "Chat Memory:\n",
      "chat history:\n",
      "Human: my puppy runs along the table very often, why?\n",
      "AI: our puppyâ€™s behavior likely stems from high energy levels and curiosity, which are common in young dogs. Tables offer elevation and visibility, making them an exciting playground â€” especially if the puppy hasnâ€™t yet learned boundaries.\n",
      "Human: does having a companion may help her to be less active\n",
      "AI: A companion can help redirect her energy through play and social interaction, but it may not reduce her activity level. Instead, it often leads to more balanced behavior, as dogs learn to self-regulate through shared routines and stimulation.\n"
     ]
    }
   ],
   "source": [
    "print(\"Loading memories...\")\n",
    "db_path = \"../sqlite_test/petshopdb/petshop_database.db\"\n",
    "user_id = \"pepuso\"\n",
    "facts_key = \"dog_facts\"\n",
    "response:MemoryDict = load_memory(db_path, user_id, facts_key)\n",
    "\n",
    "print(\"Profile Memory:\")    \n",
    "print(response[\"profile_memory\"])\n",
    "\n",
    "embedded_question = \"which dogs are from China?\"\n",
    "facts_memory = response[\"facts_memory\"].load_memory_variables({\"query\": embedded_question })\n",
    "print(\"Facts Memory:\")\n",
    "print(facts_memory[facts_key])\n",
    "#if documents are needed:\n",
    "#retrieved_docs = response[\"facts_memory\"].retriever.get_relevant_documents(embedded_question)\n",
    "\n",
    "print(\"Chat Memory:\")\n",
    "chat_memory_str = \"\\n\".join([\n",
    "      f\"Human: {msg.content}\" if msg.type == \"human\" else f\"AI: {msg.content}\"\n",
    "        for msg in response[\"chat_memory\"].buffer\n",
    "    ])\n",
    "\n",
    "print(\"chat history:\")\n",
    "print(chat_memory_str)\n"
   ]
  },
  {
   "cell_type": "code",
   "execution_count": 3,
   "id": "a459c5ad",
   "metadata": {},
   "outputs": [
    {
     "data": {
      "application/vnd.jupyter.widget-view+json": {
       "model_id": "d5f5844ec4844f0fbdac2c01d6a2c08c",
       "version_major": 2,
       "version_minor": 0
      },
      "text/plain": [
       "Loading checkpoint shards:   0%|          | 0/2 [00:00<?, ?it/s]"
      ]
     },
     "metadata": {},
     "output_type": "display_data"
    },
    {
     "name": "stderr",
     "output_type": "stream",
     "text": [
      "Device set to use cpu\n",
      "C:\\Users\\admin\\AppData\\Local\\Temp\\ipykernel_17596\\883619633.py:6: LangChainDeprecationWarning: The class `HuggingFacePipeline` was deprecated in LangChain 0.0.37 and will be removed in 1.0. An updated version of the class exists in the :class:`~langchain-huggingface package and should be used instead. To use it run `pip install -U :class:`~langchain-huggingface` and import as `from :class:`~langchain_huggingface import HuggingFacePipeline``.\n",
      "  llm = HuggingFacePipeline(pipeline=pipe)\n"
     ]
    },
    {
     "name": "stdout",
     "output_type": "stream",
     "text": [
      "Model loaded.\n"
     ]
    }
   ],
   "source": [
    "model_path = \"h:/ML_Models/_gemma/model/gemma-2b-it\"  # local folder\n",
    "\n",
    "tokenizer = AutoTokenizer.from_pretrained(model_path)\n",
    "model = AutoModelForCausalLM.from_pretrained(model_path)\n",
    "pipe = pipeline(\"text-generation\", model=model, tokenizer=tokenizer, max_new_tokens=512)\n",
    "llm = HuggingFacePipeline(pipeline=pipe)\n",
    "print(\"Model loaded.\")\n",
    "\n",
    "prompt = ChatPromptTemplate.from_messages([\n",
    "    (\"system\", \"Answer based on profile memory and facts memory and Chat History\"),\n",
    "    (\"human\", \"{question}\\n\\nDocs:\\n{facts_memory}\\n\\nProfile:\\n{profile_memory}\\n\\nChat History:\\n{chat_memory}\"),\n",
    "])\n",
    "\n",
    "chain = prompt | llm | StrOutputParser()"
   ]
  },
  {
   "cell_type": "code",
   "execution_count": 10,
   "id": "d4201dd5",
   "metadata": {},
   "outputs": [],
   "source": [
    "def setup_questions(state: AgentState):\n",
    "    print(\"collect question from user\", state)\n",
    "    #hardcoded for now\n",
    "    state[\"embedded_question\"] = \"which dogs are small size?\"\n",
    "    state[\"question\"] = \"which dogs are good companion for mini dachshunds?\"\n",
    "    state[\"user_id\"] =  \"pepuso\"\n",
    "    return state\n",
    "\n",
    "\n",
    "def recover_memory(state: AgentState):\n",
    "    print(\"recover facts here\", state)\n",
    "    db_path = \"../sqlite_test/petshopdb/petshop_database.db\"\n",
    "    facts_key = \"dog_facts\"\n",
    "    \n",
    "    response:MemoryDict = load_memory(db_path,state[\"user_id\"], facts_key)\n",
    "    \n",
    "    #recover the first profile memory\n",
    "    state[\"profile_memory\"] = response[\"profile_memory\"]\n",
    "    state[\"facts_memory\"] = response[\"facts_memory\"].load_memory_variables({\"query\": state[\"embedded_question\"] })\n",
    "\n",
    "    chat_memory_str = \"\\n\".join([\n",
    "      f\"Human: {msg.content}\" if msg.type == \"human\" else f\"AI: {msg.content}\"\n",
    "        for msg in response[\"chat_memory\"].buffer\n",
    "    ])\n",
    "\n",
    "    state[\"chat_memory\"] = chat_memory_str\n",
    "    return state\n",
    "\n",
    "def generate_answer(state: AgentState):\n",
    "    print(\"generate answer here\", state)\n",
    "    answer = chain.invoke({\n",
    "        \"question\": state[\"question\"],\n",
    "        \"profile_memory\": \"\\n\".join(state[\"profile_memory\"]),\n",
    "        \"facts_memory\": \"\\n\".join(state[\"facts_memory\"]),\n",
    "        \"chat_memory\": state[\"chat_memory\"]\n",
    "    })\n",
    "\n",
    "    return {**state, \"answer\": answer}\n"
   ]
  },
  {
   "cell_type": "code",
   "execution_count": 11,
   "id": "5829be6f",
   "metadata": {},
   "outputs": [],
   "source": [
    "graph = StateGraph(AgentState)\n",
    "graph.add_node(\"setup\",setup_questions)\n",
    "graph.add_node(\"remember\",recover_memory)\n",
    "graph.add_node(\"reason\", generate_answer)\n",
    "\n",
    "graph.set_entry_point(\"setup\")\n",
    "graph.add_edge(\"setup\",\"remember\")\n",
    "graph.add_edge(\"remember\",\"reason\")\n",
    "\n",
    "graph.set_finish_point(\"reason\")\n",
    "agent = graph.compile()"
   ]
  },
  {
   "cell_type": "code",
   "execution_count": 12,
   "id": "0229c8f2",
   "metadata": {},
   "outputs": [
    {
     "name": "stdout",
     "output_type": "stream",
     "text": [
      "collect question from user {}\n",
      "recover facts here {'question': 'which dogs are good companion for mini dachshunds?', 'embedded_question': 'which dogs are small size?', 'user_id': 'pepuso'}\n",
      "Loaded 4 messages for user_id pepuso\n",
      "generate answer here {'question': 'which dogs are good companion for mini dachshunds?', 'embedded_question': 'which dogs are small size?', 'user_id': 'pepuso', 'chat_memory': 'Human: my puppy runs along the table very often, why?\\nAI: our puppyâ€™s behavior likely stems from high energy levels and curiosity, which are common in young dogs. Tables offer elevation and visibility, making them an exciting playground â€” especially if the puppy hasnâ€™t yet learned boundaries.\\nHuman: does having a companion may help her to be less active\\nAI: A companion can help redirect her energy through play and social interaction, but it may not reduce her activity level. Instead, it often leads to more balanced behavior, as dogs learn to self-regulate through shared routines and stimulation.', 'profile_memory': ['pepuso has a 1-year-old Dachshund named canela, described as energetic.'], 'facts_memory': {'dog_facts': \"CHIHUAHUA Nationality: Mexico. Origin: The oldest breed in the Americas and the smallest in the world. Native to Mexico (named after a Mexican province), though some believe it was introduced by the Chinese. It wasn’t imported to Europe until the late 19th century. Description: Height ranges from 16 to 22 cm, with proportional weight from 0.9 to 2.6 kg. Smaller sizes are more prized. Head is round, apple-shaped, with a short pointed muzzle, round black eyes, and large ears that stand erect when alert. Compact body, longer than tall; tail curves over the back or slightly to one side. Two varieties exist: short-haired and long-haired (rare and wavy). Common colors include light blonde, sand, brown, silver, and steel blue; coat may be solid or mixed. Temperament: Brave, lively, clever, affectionate, loyal, intelligent, and enterprising. Use: A companion dog that enthusiastically hunts rats and can even defend itself against larger dogs. Needs physical activity and should not be confined indoors out of health concerns.\\nMINIATURE SCHNAUZER Nationality: Germany. Origin: Like its larger siblings—the Giant and Standard Schnauzers—it descends from the old Terrier, with Affenpinscher blood also in its lineage. Description: Height: 30–35 cm for both males and females; dwarfism is considered a defect. Long head, strong muzzle, well-developed nose, scissor bite, dark oval eyes; cropped ears (natural ears allowed, then drooping); long, arched, elegant neck; eyes shaded by thick eyebrows; muzzle adorned with a wiry beard. Coat color: black or salt and pepper. Temperament: Very affectionate, energetic, vocal, obedient, trainable, and charming. Use: In addition to the aesthetic appeal of its larger relatives, the Miniature Schnauzer shares their vigilant guarding and rat-hunting instincts. However, it is considered exclusively a house/apartment dog.\\nBULLDOG Nationality: Great Britain. Origin: The breed descends from the ancient Asian Mastiff but was fully developed in Great Britain. The medieval name 'Bulldog' referred not only to its robust, bull-like appearance but also to its strength in facing bulls in arena fights. These were banned by law in the last century, nearly causing the breed’s extinction. Description: Small in stature, broad, compact, with an astonishingly large and massive head. Ideal weight: males 24–25 kg, females 22–23 kg. Height (not specified in the standard) ranges from 30 to 35 cm. Skull should be wide (the wider, the better), with cheeks extending to the eyes; the skin covering the skull and forehead should be loose and wrinkled. Muzzle is short and grumpy; nose broad and black; nostrils large, wide, black, with a straight, well-defined vertical line. Upper lip thick, wide, hanging, and deep, fully covering the lower jaw; upper jaw should protrude beyond the lower. Eyes round, far apart, very dark; ears small and thin, ideally in 'rose' shape with inner folds turned back. Arched neck with dewlap; short, low-set tail; short, soft coat in fawn and white, white, or brindle and white. Black is not accepted. Temperament: Once used in fights, it was aggressive and bloodthirsty—so much so that in Rome, a decree banned Bulldogs from public streets, even on a leash. Selective breeding over the past century has softened its temperament, making it a gentle, reserved, dignified, loyal, clean, aristocratic dog—beautiful in its own ugliness. Use: After its gladiator days, it served as a guard dog, police dog, and army aide. In the U.S., one Bulldog earned five war citations and a bronze medal; another was named corporal. Today, it’s an excellent companion dog. Note: Due to its large head, puppies are often born via cesarean section. Many females are infertile, contributing to the breed’s high price.\\nDALMATIAN Nationality: Yugoslavia. Origin: Few authors agree on its origins. It’s certainly an ancient breed, with traces found in Egyptian bas-reliefs and Hellenic art. In 1700, a similar dog existed in England called the Bengal Pointer, casting doubt on its Yugoslavian origin. Description: Muscular dog with symmetrical lines. Height: 55–60 cm (50–55 cm for females). Weight: approx. 25 kg. Head of good length; strong muzzle; moderate stop; black or brown nose depending on spot color. Eyes: black or brown, round, bright, intelligent expression. Ears: soft, thin, close to the head. Tail: strong at base, tapering to tip, slightly curved upward, preferably heavily spotted. Coat: short, hard, dense, fine, smooth, shiny. Base color must be pure white with black or liver spots—the more spots, the more prized the dog. Puppies are born completely white. Temperament: Calm, loyal, independent but trainable, very sensitive. Needs companionship or becomes melancholic. Loves playing with children. Has excellent memory, recalling corrections even years later. Use: Used as a scent hound in the Middle Ages. In the 19th century, gained popularity as a 'coach dog', following its owner faithfully whether on foot, horseback, or carriage. Later became a beloved companion dog. In the U.S., serves in rescue roles and often rides in fire trucks. Clean and orderly, avoids puddles and enjoys water and soap. Note: A lemon-spotted variety exists (white base with lemon spots), but it’s not accepted in dog shows.\\nBORDER COLLIE Nationality: Great Britain. Origin: It descends from reindeer herding dogs, brought to Scotland during the Viking invasions and later crossed with Valée Shepherds. Description: Height between 43 and 50 cm for males; females between 40 and 45 cm. Weight between 13 and 22 kg for males; females, from 13 to 18 kg. There are two varieties of Border Collie: rough-coated (abundant, straight, and 8 cm long) and smooth-coated (2.5 cm long). Coat colors can be white, black, brown, black and white. Temperament: Intelligent, balanced, willing, attentive, very trainable. Use: This is a hardy, agile, tireless sheepdog, capable of handling any type of flock. It is said to have a gaze capable of hypnotizing cattle. It is not suitable for living in the city. Used as a companion dog, it would end up becoming extremely nervous and would lose its liveliness and lucidity.\"}}\n",
      "System: Answer based on profile memory and facts memory and Chat History\n",
      "Human: which dogs are good companion for mini dachshunds?\n",
      "\n",
      "Docs:\n",
      "dog_facts\n",
      "\n",
      "Profile:\n",
      "pepuso has a 1-year-old Dachshund named canela, described as energetic.\n",
      "\n",
      "Chat History:\n",
      "Human: my puppy runs along the table very often, why?\n",
      "AI: our puppyâ€™s behavior likely stems from high energy levels and curiosity, which are common in young dogs. Tables offer elevation and visibility, making them an exciting playground â€” especially if the puppy hasnâ€™t yet learned boundaries.\n",
      "Human: does having a companion may help her to be less active\n",
      "AI: A companion can help redirect her energy through play and social interaction, but it may not reduce her activity level. Instead, it often leads to more balanced behavior, as dogs learn to self-regulate through shared routines and stimulation.\n",
      "\n",
      "Based on this information, what is the best companion for a mini dachshund?\n",
      "\n",
      "The passage does not provide information about the best companion for a mini dachshund, so I cannot answer this question from the provided context.\n"
     ]
    }
   ],
   "source": [
    "response = agent.invoke({  \n",
    "})\n",
    "print(response[\"answer\"])\n"
   ]
  }
 ],
 "metadata": {
  "kernelspec": {
   "display_name": ".venv",
   "language": "python",
   "name": "python3"
  },
  "language_info": {
   "codemirror_mode": {
    "name": "ipython",
    "version": 3
   },
   "file_extension": ".py",
   "mimetype": "text/x-python",
   "name": "python",
   "nbconvert_exporter": "python",
   "pygments_lexer": "ipython3",
   "version": "3.13.2"
  }
 },
 "nbformat": 4,
 "nbformat_minor": 5
}
